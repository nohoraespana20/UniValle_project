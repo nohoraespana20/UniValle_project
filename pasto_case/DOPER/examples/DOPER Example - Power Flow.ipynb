{
 "cells": [
  {
   "cell_type": "markdown",
   "metadata": {},
   "source": [
    "# Example of DOPER - Power Flow"
   ]
  },
  {
   "cell_type": "markdown",
   "metadata": {},
   "source": [
    "### This examples demonstrates mutli-node power flow model"
   ]
  },
  {
   "cell_type": "code",
   "execution_count": 1,
   "metadata": {},
   "outputs": [],
   "source": [
    "import os\n",
    "import sys\n",
    "import pandas as pd\n",
    "import matplotlib.pyplot as plt\n",
    "from pprint import pprint\n",
    "from pandas.plotting import register_matplotlib_converters\n",
    "register_matplotlib_converters()\n",
    "%matplotlib inline\n",
    "\n",
    "# Append parent directory to import DOPER\n",
    "sys.path.append('../src')"
   ]
  },
  {
   "cell_type": "markdown",
   "metadata": {},
   "source": [
    "### Import DOPER modules"
   ]
  },
  {
   "cell_type": "markdown",
   "metadata": {},
   "source": [
    "DOPER consists of several modules which are imported here."
   ]
  },
  {
   "cell_type": "code",
   "execution_count": 2,
   "metadata": {},
   "outputs": [],
   "source": [
    "from doper import DOPER, get_solver, get_root, standard_report\n",
    "from doper.models.basemodel import base_model, default_output_list\n",
    "from doper.models.network import add_network\n",
    "from doper.models.battery import add_battery\n",
    "from doper.examples.example import parameter_add_battery, ts_inputs, default_parameter\n",
    "from doper.plotting import plot_dynamic"
   ]
  },
  {
   "cell_type": "markdown",
   "metadata": {},
   "source": [
    "### Setup Optimization Model"
   ]
  },
  {
   "cell_type": "code",
   "execution_count": 3,
   "metadata": {},
   "outputs": [],
   "source": [
    "from pyomo.environ import Objective, minimize\n",
    "\n",
    "def control_model(inputs, parameter):\n",
    "    model = base_model(inputs, parameter)\n",
    "#     model = add_battery(model, inputs, parameter)\n",
    "    \n",
    "    model = add_network(model, inputs, parameter)\n",
    "    \n",
    "    def objective_function(model):\n",
    "       return model.sum_energy_cost * parameter['objective']['weight_energy'] \\\n",
    "               + model.sum_demand_cost * parameter['objective']['weight_demand'] \\\n",
    "               + model.sum_export_revenue * parameter['objective']['weight_export'] \\\n",
    "               + model.fuel_cost_total * parameter['objective']['weight_energy'] \\\n",
    "               + model.load_shed_cost_total\n",
    "\n",
    "    model.objective = Objective(rule=objective_function, sense=minimize, doc='objective function')\n",
    "    return model"
   ]
  },
  {
   "cell_type": "markdown",
   "metadata": {},
   "source": [
    "### Define Example Parameter"
   ]
  },
  {
   "cell_type": "code",
   "execution_count": 4,
   "metadata": {},
   "outputs": [],
   "source": [
    "parameter = default_parameter()\n",
    "    \n",
    "# Add nodes and line options\n",
    "parameter['network'] = {}\n",
    "\n",
    "\n",
    "# Add network settings to define power-flow constaints\n",
    "parameter['network']['settings'] = {\n",
    "    \n",
    "    # turn off simepl power exchange to utilize full power-flow equations\n",
    "    'simplePowerExchange': False,\n",
    "    'simpleNetworkLosses': 0.05,\n",
    "\n",
    "    # powerflow parameters\n",
    "    'slackBusVoltage': 1,\n",
    "    'sBase': 1,\n",
    "    'vBase': 1,\n",
    "    'cableDerating': 1,\n",
    "    'txDerating': 1,\n",
    "\n",
    "    # power factors\n",
    "    'powerFactors': {\n",
    "        'pv': 1,  \n",
    "        'genset': 1,\n",
    "        'batteryDisc': 1,\n",
    "        'batteryChar': 1,\n",
    "        'load': 1\n",
    "    },\n",
    "\n",
    "    # powerflow model settings\n",
    "    'enableLosses': True,\n",
    "    'thetaMin': -0.18,\n",
    "    'thetaMax': 0.09,\n",
    "    'voltMin': 0.8,\n",
    "    'voltMax': 1.1,\n",
    "    'useConsVoltMin': False,\n",
    "    'enableConstantPf': 1,\n",
    "    'enableVoltageAngleConstraint': 1,\n",
    "    'enableGenPqLimits': False, # not implemented yet\n",
    "}\n",
    "\n",
    "\n",
    "\n"
   ]
  },
  {
   "cell_type": "markdown",
   "metadata": {},
   "source": [
    "### Define System Nodes in Paramter"
   ]
  },
  {
   "cell_type": "code",
   "execution_count": 5,
   "metadata": {},
   "outputs": [],
   "source": [
    "parameter['network']['nodes'] = [ # list of dict to define inputs for each node in network\n",
    "    { # node 1\n",
    "        'node_id': 'N1', # unique str to id node\n",
    "        'pcc': True, # bool to define if node is pcc\n",
    "        'slack': True, \n",
    "        'load_id': None, # str, list of str, or None to find load profile in ts data (if node is load bus) by column label\n",
    "        'ders': { # dict of der assets at node, if None or not included, no ders present\n",
    "            'pv_id': None, # str, list, or None to find pv profile in ts data (if pv at node) by column label\n",
    "            'pv_maxS': 0,\n",
    "            'battery': None, # list of str corresponding to battery assets (defined in parameter['system']['battery'])\n",
    "            'genset': None, # list of str correponsing to genset assets (defined in parameter['system']['genset'])\n",
    "            'load_control': None # str, list or None correponsing to genset assets (defined in parameter['system']['load_control'])\n",
    "        },\n",
    "        'connections': [ # list of connected nodes, and line connecting them\n",
    "            {\n",
    "                'node': 'N2', # str containing unique node_id of connected node\n",
    "                'line': 'L1' # str containing unique line_id of line connection nodes, (defined in parameter['network']['lines'])\n",
    "            },\n",
    "            {\n",
    "                'node': 'N4',\n",
    "                'line': 'L2'\n",
    "            }\n",
    "        ]\n",
    "    },\n",
    "    { # node 2\n",
    "        'node_id': 'N2',\n",
    "        'pcc': True,\n",
    "        'slack': False, \n",
    "        'load_id': 'pf_demand_node2',\n",
    "        'ders': { \n",
    "            'pv_id': 'pf_pv_node2',\n",
    "            'pv_maxS': 300,\n",
    "            'battery': 'pf_bat_node2', # node can contain multiple battery assets, so should be list\n",
    "            'genset': None,\n",
    "            'load_control': None # node likely to only contain single load_control asset, so should be str\n",
    "        },\n",
    "        'connections': [\n",
    "            {\n",
    "                'node': 'N1',\n",
    "                'line': 'L1'\n",
    "            },\n",
    "            {\n",
    "                'node': 'N3',\n",
    "                'line': 'L1'\n",
    "            }\n",
    "        ]\n",
    "    },\n",
    "    { # node 3\n",
    "        'node_id': 'N3',\n",
    "        'pcc': True,\n",
    "        'slack': False, \n",
    "        'load_id': 'pf_pv_node3',\n",
    "        'ders': { \n",
    "            'pv_id': None,\n",
    "            'pv_maxS': 1200,\n",
    "            'battery': 'pf_bat_node3', \n",
    "            'genset': 'pf_gen_node3',\n",
    "            'load_control': None\n",
    "        },\n",
    "        'connections': [\n",
    "            {\n",
    "                'node': 'N2',\n",
    "                'line': 'L1'\n",
    "            }\n",
    "        ]\n",
    "    },\n",
    "    { # node 4\n",
    "        'node_id': 'N4',\n",
    "        'pcc': True,\n",
    "        'slack': False, \n",
    "        'load_id': 'pf_demand_node4',\n",
    "        'ders': { \n",
    "            'pv_id': 'pf_pv_node4',\n",
    "            'pv_maxS': 1000,\n",
    "            'battery': 'pf_bat_node4', \n",
    "            'genset': 'pf_gen_node4',\n",
    "            'load_control': 'testLc4'\n",
    "        },\n",
    "        'connections': [\n",
    "            {\n",
    "                'node': 'N1',\n",
    "                'line': 'L2'\n",
    "            },\n",
    "            {\n",
    "                'node': 'N5',\n",
    "                'line': 'L3'\n",
    "            }\n",
    "        ]\n",
    "    },\n",
    "    { # node 5\n",
    "        'node_id': 'N5',\n",
    "        'pcc': True,\n",
    "        'slack': False, \n",
    "        'load_id': 'pf_demand_node5',\n",
    "        'ders': { \n",
    "            'pv_id': 'pf_pv_node5',\n",
    "            'pv_maxS': 1500,\n",
    "            'battery': 'pf_bat_node5', \n",
    "            'genset': 'pf_gen_node5',\n",
    "            'load_control': None\n",
    "        },\n",
    "        'connections': [\n",
    "            {\n",
    "                'node': 'N4',\n",
    "                'line': 'L3'\n",
    "            }\n",
    "        ]\n",
    "    }\n",
    "]"
   ]
  },
  {
   "cell_type": "markdown",
   "metadata": {},
   "source": [
    "### Define System Lines in Paramter"
   ]
  },
  {
   "cell_type": "code",
   "execution_count": 6,
   "metadata": {},
   "outputs": [],
   "source": [
    "parameter['network']['lines'] = [ # list of dicts define each cable/line properties\n",
    "    {\n",
    "        'line_id': 'L1',\n",
    "        'power_capacity': 3500, # line power capacity only used for simple power=exchange\n",
    "        \n",
    "        'length': 1200, # line length in meters\n",
    "        'resistance': 4.64e-6, # line properties are all in pu, based on SBase/VBase defined above\n",
    "        'inductance': 8.33e-7,\n",
    "        'ampacity': 3500,\n",
    "    },\n",
    "    {\n",
    "        'line_id': 'L2',\n",
    "        'power_capacity': 3500,\n",
    "        \n",
    "        'length': 1800,\n",
    "        'resistance': 4.64e-6,\n",
    "        'inductance': 8.33e-7,\n",
    "        'ampacity': 3500,\n",
    "    },\n",
    "    {\n",
    "        'line_id': 'L3',\n",
    "        'power_capacity': 3500,\n",
    "        \n",
    "        'length': 900,\n",
    "        'resistance': 4.64e-6,\n",
    "        'inductance': 8.33e-7,\n",
    "        'ampacity': 3500,\n",
    "    }\n",
    "]"
   ]
  },
  {
   "cell_type": "markdown",
   "metadata": {},
   "source": [
    "### Load Example Data"
   ]
  },
  {
   "cell_type": "markdown",
   "metadata": {},
   "source": [
    "Time-series data are combined to add load and PV generations profiles to each node in the network. Note the column heads used to define these profiles for each node correspond the the 'load_id' and 'pv_id' values used when defining nodes in the 'parameter' dict above."
   ]
  },
  {
   "cell_type": "code",
   "execution_count": 7,
   "metadata": {},
   "outputs": [],
   "source": [
    "# create data ts for each node\n",
    "data2 = ts_inputs(parameter, load='B90', scale_load=700, scale_pv=300)\n",
    "data3 = ts_inputs(parameter, load='B90', scale_load=1200, scale_pv=1200)\n",
    "data4 = ts_inputs(parameter, load='B90', scale_load=1500, scale_pv=1000)\n",
    "data5 = ts_inputs(parameter, load='B90', scale_load=2000, scale_pv=1500)\n",
    "\n",
    "# use data1 as starting point for multinode df\n",
    "data = data2.copy()\n",
    "\n",
    "# drop load and pv from multinode df\n",
    "data = data.drop(labels='load_demand', axis=1)\n",
    "data = data.drop(labels='generation_pv', axis=1)\n",
    "\n",
    "# add node specifc load and pv (where applicable)\n",
    "data['pf_demand_node2'] = data2['load_demand']\n",
    "data['pf_demand_node3'] = data3['load_demand']\n",
    "data['pf_demand_node4'] = data4['load_demand']\n",
    "data['pf_demand_node5'] = data5['load_demand']\n",
    "\n",
    "data['pf_pv_node2'] = data2['generation_pv']\n",
    "data['pf_pv_node3'] = data3['generation_pv']\n",
    "data['pf_pv_node4'] = data4['generation_pv']\n",
    "data['pf_pv_node5'] = data5['generation_pv'] "
   ]
  },
  {
   "cell_type": "markdown",
   "metadata": {},
   "source": [
    "### Conduct Optimization"
   ]
  },
  {
   "cell_type": "code",
   "execution_count": 8,
   "metadata": {},
   "outputs": [
    {
     "name": "stdout",
     "output_type": "stream",
     "text": [
      "C:\\Users\\nicholas\\.conda\\envs\\doperDev\\lib\\site-packages\\doper\\solvers\\Windows64\\cbc.exe\n",
      "Solver\t\t\tCBC 2.10.3\n",
      "Duration [s]\t\t197.37\n",
      "Objective [$]\t\t159216.26\t\t\t159216.26 (Total Cost)\n",
      "Cost [$]\t\t7382.64 (Energy)\t151833.62 (Demand)\n",
      "CO2 Emissions [kg]\t\t12670.35\n",
      "\n"
     ]
    }
   ],
   "source": [
    "# generate standard output data\n",
    "output_list = default_output_list(parameter)\n",
    "\n",
    "# Define the path to the solver executable\n",
    "solver_path = get_solver('cbc', solver_dir=os.path.join(get_root(), 'solvers'))\n",
    "print(solver_path)\n",
    "# Initialize DOPER\n",
    "smartDER = DOPER(model=control_model,\n",
    "                 parameter=parameter,\n",
    "                 solver_path=solver_path,\n",
    "                 output_list=output_list)\n",
    "\n",
    "# Conduct optimization\n",
    "res = smartDER.do_optimization(data)\n",
    "\n",
    "# Get results\n",
    "duration, objective, df, model, result, termination, parameter = res\n",
    "print(standard_report(res))"
   ]
  },
  {
   "cell_type": "code",
   "execution_count": 9,
   "metadata": {},
   "outputs": [
    {
     "name": "stdout",
     "output_type": "stream",
     "text": [
      "{'name': 'load_served_site', 'sum': 971362, 'mean': 3506, 'min': 2177.777777777778, 'max': 5400}\n",
      "{'name': 'generation_pv_site', 'sum': 212142, 'mean': 765, 'min': 0.0, 'max': 2800}\n",
      "{'name': 'grid_import_site', 'sum': 759463, 'mean': 2741, 'min': 2177.777777777777, 'max': 3811}\n",
      "{'name': 'grid_export_site', 'sum': 0, 'mean': 0, 'min': 0.0, 'max': 0}\n",
      "{'name': 'real_power_inj', 'sum': 971605, 'mean': 701, 'min': 0.0, 'max': 3773}\n",
      "{'name': 'real_power_abs', 'sum': 971362, 'mean': 701, 'min': 0.0, 'max': 1999}\n",
      "{'name': 'imag_power_inj', 'sum': 0, 'mean': 0, 'min': -12130.71895424836, 'max': 9352}\n",
      "{'name': 'imag_power_abs', 'sum': 0, 'mean': 0, 'min': 0.0, 'max': 0}\n",
      "{'name': 'electricity_var_provided', 'sum': 0, 'mean': 0, 'min': -12130.71895424836, 'max': 9352}\n",
      "{'name': 'electricity_var_consumed', 'sum': 0, 'mean': 0, 'min': 0.0, 'max': 0}\n",
      "{'name': 'electricity_var_purchased', 'sum': -2733809, 'mean': -1973, 'min': -10000.0, 'max': 9352}\n"
     ]
    }
   ],
   "source": [
    "def getVals(model, varName):\n",
    "    \n",
    "    vals = getattr(model, varName).extract_values().values()\n",
    "    n = len(vals)\n",
    "    \n",
    "    return {\n",
    "        'name': varName,\n",
    "        'sum': int(sum(vals)),\n",
    "        'mean': int(sum(vals)/float(n)),\n",
    "        'min': min(vals),\n",
    "        'max': int(max(vals)),\n",
    "    }\n",
    "\n",
    "\n",
    "varList = [\n",
    "    'load_served_site', 'generation_pv_site',\n",
    "    'grid_import_site', 'grid_export_site',\n",
    "    'real_power_inj', 'real_power_abs',\n",
    "    'imag_power_inj', 'imag_power_abs',\n",
    "    'electricity_var_provided', 'electricity_var_consumed',\n",
    "    'electricity_var_purchased'\n",
    "    ]\n",
    "        \n",
    "for vv in varList:\n",
    "    print(getVals(model, vv))"
   ]
  }
 ],
 "metadata": {
  "kernelspec": {
   "display_name": "Python 3",
   "language": "python",
   "name": "python3"
  },
  "language_info": {
   "codemirror_mode": {
    "name": "ipython",
    "version": 3
   },
   "file_extension": ".py",
   "mimetype": "text/x-python",
   "name": "python",
   "nbconvert_exporter": "python",
   "pygments_lexer": "ipython3",
   "version": "3.7.7"
  }
 },
 "nbformat": 4,
 "nbformat_minor": 2
}
