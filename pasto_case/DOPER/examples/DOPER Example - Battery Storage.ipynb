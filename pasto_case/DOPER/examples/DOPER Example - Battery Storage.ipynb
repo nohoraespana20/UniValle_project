{
 "cells": [
  {
   "cell_type": "markdown",
   "metadata": {},
   "source": [
    "# Example of DOPER - Battery Storage"
   ]
  },
  {
   "cell_type": "markdown",
   "metadata": {},
   "source": [
    "### This examples demonstrates the DOPER framework for two stationary batteries with about 150 kW building base load and 100 kW Photovoltaic (PV) generation."
   ]
  },
  {
   "cell_type": "code",
   "execution_count": null,
   "metadata": {},
   "outputs": [],
   "source": [
    "import os\n",
    "import sys\n",
    "import pandas as pd\n",
    "import matplotlib.pyplot as plt\n",
    "from pprint import pprint\n",
    "from pandas.plotting import register_matplotlib_converters\n",
    "register_matplotlib_converters()\n",
    "%matplotlib inline\n",
    "\n",
    "# from IPython.display import HTML\n",
    "# HTML('''<script>\n",
    "# code_show=true; \n",
    "# function code_toggle() {\n",
    "#  if (code_show){\n",
    "#  $('div.input').hide();\n",
    "#  } else {\n",
    "#  $('div.input').show();\n",
    "#  }\n",
    "#  code_show = !code_show\n",
    "# } \n",
    "# $( document ).ready(code_toggle);\n",
    "# </script>\n",
    "# <form action=\"javascript:code_toggle()\">\n",
    "# <input type=\"submit\" value=\"Click here to toggle on/off the raw code.\"></form>\n",
    "# ''')"
   ]
  },
  {
   "cell_type": "markdown",
   "metadata": {},
   "source": [
    "### Import DOPER modules"
   ]
  },
  {
   "cell_type": "markdown",
   "metadata": {},
   "source": [
    "DOPER consists of several modules which are imported here."
   ]
  },
  {
   "cell_type": "code",
   "execution_count": null,
   "metadata": {},
   "outputs": [],
   "source": [
    "from doper import DOPER, get_solver, get_root, standard_report\n",
    "from doper.models.basemodel import base_model, default_output_list\n",
    "from doper.models.battery import add_battery\n",
    "from doper.examples.example import parameter_add_battery, ts_inputs, default_parameter\n",
    "from doper.plotting import plot_dynamic"
   ]
  },
  {
   "cell_type": "markdown",
   "metadata": {},
   "source": [
    "### Setup Optimization Model"
   ]
  },
  {
   "cell_type": "markdown",
   "metadata": {},
   "source": [
    "DOPER passes the inputs as first arguments and parameter as second argument to the optimization model (control_model). In this example two models are loaded:\n",
    "* the \"base_model\" with energy balance of on-site generation, e.g. Photovoltaic, and demand, e.g. building base laod\n",
    "* the \"add_battery\" model which adds individual batteries or electric vehicles, as defined by the input parameters\n",
    "\n",
    "An objective function is defined as the sum of energy and demand cost, eventual revenue from exporting energy, and from frequency regulation. The weighting between the objectives is again defined within the parameters of the model."
   ]
  },
  {
   "cell_type": "code",
   "execution_count": null,
   "metadata": {},
   "outputs": [],
   "source": [
    "from pyomo.environ import Objective, minimize\n",
    "\n",
    "def control_model(inputs, parameter):\n",
    "    model = base_model(inputs, parameter)\n",
    "    model = add_battery(model, inputs, parameter)\n",
    "    \n",
    "    def objective_function(model):\n",
    "        return model.sum_energy_cost * parameter['objective']['weight_energy'] \\\n",
    "               + model.sum_demand_cost * parameter['objective']['weight_demand'] \\\n",
    "               + model.sum_export_revenue * parameter['objective']['weight_export']\n",
    "    \n",
    "    model.objective = Objective(rule=objective_function, sense=minimize, doc='objective function')\n",
    "    return model"
   ]
  },
  {
   "cell_type": "markdown",
   "metadata": {},
   "source": [
    "### Load Example Parameter"
   ]
  },
  {
   "cell_type": "markdown",
   "metadata": {},
   "source": [
    "The \"parameter\" dictinoary object includes all parameters of the optimization model. The high-level categories are:\n",
    "* Battery: parameter of all batteries in the model. This includes number of batteries, initial and final State of Charge, power, capacity, etc.\n",
    "* Controller: selection of controller options such as model timestep, optimization horizon, etc.\n",
    "* Objective: weighting of the multiple objectives\n",
    "* Site: specifications of the site such as timezone, import and export power limits, customer type, etc.\n",
    "* Tariff: electricity tariff specified as time-of-use with any number of periods"
   ]
  },
  {
   "cell_type": "code",
   "execution_count": null,
   "metadata": {},
   "outputs": [],
   "source": [
    "parameter = default_parameter()\n",
    "parameter = parameter_add_battery(parameter)\n",
    "\n",
    "print(\"parameter 'system' object:\")\n",
    "pprint(parameter['system'])\n",
    "print('')\n",
    "\n",
    "print(\"parameter 'batteries' object:\")\n",
    "pprint(parameter['batteries'])\n",
    "print('')"
   ]
  },
  {
   "cell_type": "markdown",
   "metadata": {},
   "source": [
    "### Load Example Data"
   ]
  },
  {
   "cell_type": "markdown",
   "metadata": {},
   "source": [
    "The input data in this example is chosen to represent a medium-sized office building with rooftop photovoltaic system and three electric vehicles."
   ]
  },
  {
   "cell_type": "code",
   "execution_count": null,
   "metadata": {},
   "outputs": [],
   "source": [
    "data = ts_inputs(parameter, load='B90', scale_load=150, scale_pv=100)\n",
    "#data"
   ]
  },
  {
   "cell_type": "markdown",
   "metadata": {},
   "source": [
    "### Conduct Optimization"
   ]
  },
  {
   "cell_type": "markdown",
   "metadata": {},
   "source": [
    "In order to conduct the optimization, the DOPER object is initialized with the model, parameter, and the pyomo_to_pandas converter function. In the next step, the model is evaluated with the \"do_optimization\" class function. It takes the current inputs as input and returns a list of results.\n",
    "\n",
    "Note that DOPER is built for application as Model Predictive Control (MPC) where the optimization model is periodically, e.g. every five minutes, updated with the most recent inputs, and reevaluated. However, in this example, do_optimization is only executed once.\n",
    "\n",
    "Note: pyomos_to_pandas input has been eliminated. Users can request custom outputs using the 'output_list' optinal argument. Otherwise, a standard list of timeseries outputs with automatically be generated based on the content of the parameter['system'] table."
   ]
  },
  {
   "cell_type": "code",
   "execution_count": null,
   "metadata": {},
   "outputs": [],
   "source": [
    "# generate standard output data\n",
    "output_list = default_output_list(parameter)\n",
    "\n",
    "# Define the path to the solver executable\n",
    "# solver_path = get_solver('cbc', solver_dir=os.path.join(get_root(), 'solvers'))\n",
    "solver_path = \"C:\\Nohora\\UniValle_project\\pasto_case\\DOPER\\doper\\solvers\\Windows64\\cbc.exe\"\n",
    "print(solver_path)\n",
    "# Initialize DOPER\n",
    "smartDER = DOPER(model=control_model,\n",
    "                 parameter=parameter,\n",
    "                 solver_path=solver_path,\n",
    "                 output_list=output_list)\n",
    "\n",
    "# Conduct optimization\n",
    "res = smartDER.do_optimization(data)\n",
    "\n",
    "# Get results\n",
    "duration, objective, df, model, result, termination, parameter = res\n",
    "print(standard_report(res))"
   ]
  },
  {
   "cell_type": "markdown",
   "metadata": {},
   "source": [
    "### Result for Site"
   ]
  },
  {
   "cell_type": "code",
   "execution_count": null,
   "metadata": {},
   "outputs": [],
   "source": [
    "plotData = plot_dynamic(df, parameter, plotFile = None, plot_reg=False)"
   ]
  },
  {
   "cell_type": "code",
   "execution_count": null,
   "metadata": {},
   "outputs": [],
   "source": []
  },
  {
   "cell_type": "code",
   "execution_count": null,
   "metadata": {},
   "outputs": [],
   "source": []
  }
 ],
 "metadata": {
  "kernelspec": {
   "display_name": "Python 3",
   "language": "python",
   "name": "python3"
  },
  "language_info": {
   "codemirror_mode": {
    "name": "ipython",
    "version": 3
   },
   "file_extension": ".py",
   "mimetype": "text/x-python",
   "name": "python",
   "nbconvert_exporter": "python",
   "pygments_lexer": "ipython3",
   "version": "3.7.7"
  }
 },
 "nbformat": 4,
 "nbformat_minor": 2
}
